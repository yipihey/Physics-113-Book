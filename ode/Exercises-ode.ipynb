{
 "cells": [
  {
   "attachments": {},
   "cell_type": "markdown",
   "metadata": {},
   "source": [
    "# Exercises\n",
    "\n",
    "## 4th order Runge-Kutta ODE integration\n",
    "\n",
    "For any system of 1st order differential equations:\n",
    "\n",
    "$$ \\frac{dy}{dt} = f(t, y), $$\n",
    "\n",
    "the RK4 method is one of the most popular approaches. \n",
    "Note that we can here also think of $y$ as a vector!\n",
    "\n",
    "From page 246 of our text we have \n",
    "1. We compute first\n",
    "\n",
    "$$ k_1=h\\, f(t_i, y_i) $$\n",
    "\n",
    "2. The get the slope at the midpoint using Eulers method to predict $y_{i+1/2}$:\n",
    "\n",
    "$$ k_2 = h\\,f(t_i+h/2, y_i+k_1/2) $$\n",
    "\n",
    "3. The improved slope at the midpoint is used to further improve the slope of $y_{i+1/2}$ by:\n",
    "\n",
    "$$ k_3 = h\\, f(t_i+h/2, y_i+k_2/2) $$\n",
    "\n",
    "4. Using this improved slope we can predict $y_{i+1}$ using\n",
    "\n",
    "$$k_4 = h\\, f(t_i+h, y_i + k_3) $$\n",
    "\n",
    "5. The weighted combination of these slopes gives the final update step:\n",
    "\n",
    "$$ y_{i+1} = y_i + \\frac{1}{6} (k_1 + 2k_2+2k_3 +k_4) $$\n",
    "\n",
    "This is the most popular of a large class of methods. \n",
    "In this case our book gives the derivation and also the [Wikipedia article](http://en.wikipedia.org/wiki/Runge–Kutta_methods\") is rather useful.\n"
   ]
  },
  {
   "attachments": {},
   "cell_type": "markdown",
   "metadata": {},
   "source": [
    "Implement this RK4 scheme and follow the lecture to show the convergence rate of this solver. \n",
    "Submit the full code."
   ]
  },
  {
   "cell_type": "markdown",
   "metadata": {},
   "source": []
  }
 ],
 "metadata": {
  "language_info": {
   "name": "python"
  },
  "orig_nbformat": 4
 },
 "nbformat": 4,
 "nbformat_minor": 2
}
