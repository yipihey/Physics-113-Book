{
 "cells": [
  {
   "attachments": {},
   "cell_type": "markdown",
   "metadata": {},
   "source": [
    "# Exercises\n",
    "\n",
    "We understand all students will have very diverse backgrounds when it comes to computing. From some that are doing any of these things for the first time to some with extensive backgrounds in computing. Consider these exercises here as a check on how much you know already and if it is easy for you try to consider it as an opportunity to practice getting the job done faster, more elegantly, and also as a chance to engage with the material. \n",
    "\n",
    "## Make a figure\n",
    "\n",
    "Using your favorite software make a figure like the one below. \n",
    "[The data](./GlobalTemperatures.csv) is in comma separated form and comes from the [Berkley Earth project](https://berkeleyearth.org/). \n",
    "Submit the `.pdf` of the figure and a paragraph describing how you made it and provide detailed instructions of how we can reproduce it. \n",
    "\n",
    "![Global Average Temperatures](./GlobalAverageTemperature_01.png)\n",
    "\n",
    "## \n"
   ]
  },
  {
   "cell_type": "markdown",
   "metadata": {},
   "source": []
  }
 ],
 "metadata": {
  "language_info": {
   "name": "python"
  },
  "orig_nbformat": 4
 },
 "nbformat": 4,
 "nbformat_minor": 2
}
