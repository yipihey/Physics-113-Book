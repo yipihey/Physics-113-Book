{
 "cells": [
  {
   "attachments": {},
   "cell_type": "markdown",
   "metadata": {},
   "source": [
    "# Exercises\n",
    "\n",
    "## Monte Carlo Integration of a 5 dimensional function\n",
    "\n",
    "Let's take this function, \n",
    "$$ \n",
    "F(\\vec{x}) = \\left[ (\\vec{a}\\cdot (\\vec{x}-\\vec{b})\\right]^{3}\n",
    "$$\n",
    "with \n",
    "$\\vec{a}=(1,2,3,4,5)^T$ \n",
    "and \n",
    "$\\vec{b}= (\\frac{1}{2},\\frac{1}{2},\\frac{1}{2},\\frac{1}{2},\\frac{1}{2})^T$,\n",
    "and integrate over the unit interval.\n",
    "\n",
    "$$ \n",
    "A = \\int_{(0,0,0,0,0)}^{(1,1,1,1,1)} F(\\vec{x}) dV\n",
    "$$\n",
    "\n",
    "Calculate $A$ using Monte Carlo Integration and give an error estimate. \n",
    "Submit the code you used to do it. \n",
    "\n",
    "**Bonus:** Use the `scipy.nquad` function to also calculate this integral."
   ]
  },
  {
   "attachments": {},
   "cell_type": "markdown",
   "metadata": {},
   "source": [
    "## Use `scipy` routines to integrate a function\n",
    "\n",
    "Let's approximate the integral\n",
    "$$ \\int_0^1 \\sqrt{x^5+e^{5x}} \\mathrm{d}x$$\n",
    "for various $N$. As we increase N, the values for the trapezoidal rule converge. \n",
    "\n",
    "Look up the four `scipy` functions below\n",
    "```python\n",
    "from scipy.integrate import trapz \n",
    "from scipy.integrate import cumtrapz \n",
    "from scipy.integrate import simps\n",
    "from scipy.integrate import quad\n",
    "```\n",
    "and employ each to solve the integral above. \n",
    "Please submit the code and write a paragraph about what you learned about when to use which routine. "
   ]
  }
 ],
 "metadata": {
  "language_info": {
   "name": "python"
  },
  "orig_nbformat": 4
 },
 "nbformat": 4,
 "nbformat_minor": 2
}
