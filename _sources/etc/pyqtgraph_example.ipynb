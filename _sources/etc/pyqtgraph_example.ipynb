{
 "cells": [
  {
   "attachments": {},
   "cell_type": "markdown",
   "metadata": {},
   "source": [
    "## Graphical User Interface (GUI) programming\n",
    "\n",
    "It can be tremendous fun to build a graphical user interface for your programs to aid your exploration. [```pyqtgraph```](https://pyqtgraph.readthedocs.io/en/latest/) is a library that makes this large and intimidating subject more straight forward. \n",
    "\n",
    "Here we will walk through installation and exploring the examples of the libraries before we make a small example that shows off a few of the powerful concepts in ```pyqtgraph```.\n",
    "\n",
    "![Screen shot of our example using pyqtgraph](PyQtGraphExampleAppScreenshot.png)"
   ]
  },
  {
   "attachments": {},
   "cell_type": "markdown",
   "metadata": {},
   "source": [
    "### Install ```pyqtgraph```\n",
    "\n",
    "Here is the [website with the installation instructions](https://pyqtgraph.readthedocs.io/en/latest/getting_started/installation.html). "
   ]
  },
  {
   "cell_type": "code",
   "execution_count": 2,
   "metadata": {},
   "outputs": [
    {
     "data": {
      "text/html": [
       "\n",
       "        <iframe\n",
       "            width=\"700\"\n",
       "            height=\"600\"\n",
       "            src=\"https://pyqtgraph.readthedocs.io/en/latest/getting_started/installation.html\"\n",
       "            frameborder=\"0\"\n",
       "            allowfullscreen\n",
       "            \n",
       "        ></iframe>\n",
       "        "
      ],
      "text/plain": [
       "<IPython.lib.display.IFrame at 0x10f0fa460>"
      ]
     },
     "execution_count": 2,
     "metadata": {},
     "output_type": "execute_result"
    }
   ],
   "source": [
    "from IPython.display import IFrame\n",
    "IFrame(src='https://pyqtgraph.readthedocs.io/en/latest/getting_started/installation.html', width=700, height=600)"
   ]
  },
  {
   "attachments": {},
   "cell_type": "markdown",
   "metadata": {},
   "source": [
    "Once you have it installed we want to explore at least some of the many examples that come with the library. "
   ]
  },
  {
   "cell_type": "code",
   "execution_count": 13,
   "metadata": {},
   "outputs": [
    {
     "name": "stdout",
     "output_type": "stream",
     "text": [
      "Generating scalar field..\n",
      "Generating scalar field..\n",
      "Generating isosurface..\n",
      "Generating isosurface..\n"
     ]
    },
    {
     "name": "stderr",
     "output_type": "stream",
     "text": [
      "qt.pointer.dispatch: delivering touch release to same window QWindow(0x0) not QWidgetWindow(0x7fb7bc256e70, name=\"QSplitterClassWindow\")\n",
      "qt.pointer.dispatch: skipping QEventPoint(id=1 ts=0 pos=0,0 scn=1259.34,-755.004 gbl=1259.34,-755.004 Released ellipse=(1x1 ∡ 0) vel=0,0 press=-1259.34,755.004 last=-1259.34,755.004 Δ 1259.34,-755.004) : no target window\n",
      "qt.pointer.dispatch: delivering touch release to same window QWindow(0x0) not QWidgetWindow(0x7fb7bc256e70, name=\"QSplitterClassWindow\")\n",
      "qt.pointer.dispatch: skipping QEventPoint(id=1 ts=0 pos=0,0 scn=1239.26,-612.301 gbl=1239.26,-612.301 Released ellipse=(1x1 ∡ 0) vel=0,0 press=-1239.26,612.301 last=-1239.26,612.301 Δ 1239.26,-612.301) : no target window\n",
      "qt.pointer.dispatch: delivering touch release to same window QWindow(0x0) not QWidgetWindow(0x7fb7bc256e70, name=\"QSplitterClassWindow\")\n",
      "qt.pointer.dispatch: skipping QEventPoint(id=1 ts=0 pos=0,0 scn=1106.39,-901.504 gbl=1106.39,-901.504 Released ellipse=(1x1 ∡ 0) vel=0,0 press=-1106.39,901.504 last=-1106.39,901.504 Δ 1106.39,-901.504) : no target window\n",
      "qt.pointer.dispatch: delivering touch release to same window QWindow(0x0) not QWidgetWindow(0x7fb7bc256e70, name=\"QSplitterClassWindow\")\n",
      "qt.pointer.dispatch: skipping QEventPoint(id=1 ts=0 pos=0,0 scn=1099.23,-894.195 gbl=1099.23,-894.195 Released ellipse=(1x1 ∡ 0) vel=0,0 press=-1099.23,894.195 last=-1099.23,894.195 Δ 1099.23,-894.195) : no target window\n",
      "qt.pointer.dispatch: delivering touch release to same window QWindow(0x0) not QWidgetWindow(0x7fb7bc256e70, name=\"QSplitterClassWindow\")\n",
      "qt.pointer.dispatch: skipping QEventPoint(id=1 ts=0 pos=0,0 scn=1275.22,-657.576 gbl=1275.22,-657.576 Released ellipse=(1x1 ∡ 0) vel=0,0 press=-1275.22,657.576 last=-1275.22,657.576 Δ 1275.22,-657.576) : no target window\n",
      "qt.pointer.dispatch: delivering touch release to same window QWindow(0x0) not QWidgetWindow(0x7fb7bc256e70, name=\"QSplitterClassWindow\")\n",
      "qt.pointer.dispatch: skipping QEventPoint(id=1 ts=0 pos=0,0 scn=1371.7,-861.96 gbl=1371.7,-861.96 Released ellipse=(1x1 ∡ 0) vel=0,0 press=-1371.7,861.96 last=-1371.7,861.96 Δ 1371.7,-861.96) : no target window\n",
      "qt.pointer.dispatch: delivering touch release to same window QWindow(0x0) not QWidgetWindow(0x7fb7bc256e70, name=\"QSplitterClassWindow\")\n",
      "qt.pointer.dispatch: skipping QEventPoint(id=1 ts=0 pos=0,0 scn=1004.09,-807.072 gbl=1004.09,-807.072 Released ellipse=(1x1 ∡ 0) vel=0,0 press=-1004.09,807.072 last=-1004.09,807.072 Δ 1004.09,-807.072) : no target window\n",
      "qt.pointer.dispatch: delivering touch release to same window QWindow(0x0) not QWidgetWindow(0x7fb7bc256e70, name=\"QSplitterClassWindow\")\n",
      "qt.pointer.dispatch: skipping QEventPoint(id=1 ts=0 pos=0,0 scn=1081.81,-905.559 gbl=1081.81,-905.559 Released ellipse=(1x1 ∡ 0) vel=0,0 press=-1081.81,905.559 last=-1081.81,905.559 Δ 1081.81,-905.559) : no target window\n",
      "qt.pointer.dispatch: delivering touch release to same window QWindow(0x0) not QWidgetWindow(0x7fb7bc256e70, name=\"QSplitterClassWindow\")\n",
      "qt.pointer.dispatch: skipping QEventPoint(id=1 ts=0 pos=0,0 scn=744.114,-686.168 gbl=744.114,-686.168 Released ellipse=(1x1 ∡ 0) vel=0,0 press=-744.114,686.168 last=-744.114,686.168 Δ 744.114,-686.168) : no target window\n",
      "qt.pointer.dispatch: delivering touch release to same window QWindow(0x0) not QWidgetWindow(0x7fb7bc256e70, name=\"QSplitterClassWindow\")\n",
      "qt.pointer.dispatch: skipping QEventPoint(id=1 ts=0 pos=0,0 scn=814.468,-717.088 gbl=814.468,-717.088 Released ellipse=(1x1 ∡ 0) vel=0,0 press=-814.468,717.088 last=-814.468,717.088 Δ 814.468,-717.088) : no target window\n",
      "qt.pointer.dispatch: delivering touch release to same window QWindow(0x0) not QWidgetWindow(0x7fb7bc256e70, name=\"QSplitterClassWindow\")\n",
      "qt.pointer.dispatch: skipping QEventPoint(id=1 ts=0 pos=0,0 scn=862.098,-804.274 gbl=862.098,-804.274 Released ellipse=(1x1 ∡ 0) vel=0,0 press=-862.098,804.274 last=-862.098,804.274 Δ 862.098,-804.274) : no target window\n",
      "qt.pointer.dispatch: delivering touch release to same window QWindow(0x0) not QWidgetWindow(0x7fb7bc256e70, name=\"QSplitterClassWindow\")\n",
      "qt.pointer.dispatch: skipping QEventPoint(id=1 ts=0 pos=0,0 scn=913.281,-998.846 gbl=913.281,-998.846 Released ellipse=(1x1 ∡ 0) vel=0,0 press=-913.281,998.846 last=-913.281,998.846 Δ 913.281,-998.846) : no target window\n",
      "qt.pointer.dispatch: delivering touch release to same window QWindow(0x0) not QWidgetWindow(0x7fb7bc256e70, name=\"QSplitterClassWindow\")\n",
      "qt.pointer.dispatch: skipping QEventPoint(id=1 ts=0 pos=0,0 scn=882.972,-922.015 gbl=882.972,-922.015 Released ellipse=(1x1 ∡ 0) vel=0,0 press=-882.972,922.015 last=-882.972,922.015 Δ 882.972,-922.015) : no target window\n"
     ]
    },
    {
     "ename": "",
     "evalue": "",
     "output_type": "error",
     "traceback": [
      "\u001b[1;31mThe Kernel crashed while executing code in the the current cell or a previous cell. Please review the code in the cell(s) to identify a possible cause of the failure. Click <a href='https://aka.ms/vscodeJupyterKernelCrash'>here</a> for more info. View Jupyter <a href='command:jupyter.viewOutput'>log</a> for further details."
     ]
    }
   ],
   "source": [
    "import pyqtgraph.examples\n",
    "pyqtgraph.examples.run()"
   ]
  },
  {
   "attachments": {},
   "cell_type": "markdown",
   "metadata": {},
   "source": [
    "### One simple interactive plotting application\n",
    "\n",
    "In this next example note that we have a single function ```sin_curve``` that has all named parameters. With one single command ```interact``` the library extracts all of those as parameters and makes them available via the ```ParameterTree``` widget in a list view such that they all can individually be modified. \n",
    "\n",
    "So for any function that you have you can wrap it analogously to generate a graphical user interface for it. "
   ]
  },
  {
   "cell_type": "code",
   "execution_count": 4,
   "metadata": {},
   "outputs": [
    {
     "data": {
      "text/plain": [
       "0"
      ]
     },
     "execution_count": 4,
     "metadata": {},
     "output_type": "execute_result"
    }
   ],
   "source": [
    "# pyqtgraph example app\n",
    "from pyqtgraph.Qt import QtWidgets\n",
    "import pyqtgraph as pg\n",
    "from pyqtgraph.parametertree import Parameter, ParameterTree, interact\n",
    "from pyqtgraph.dockarea.Dock import Dock\n",
    "from pyqtgraph.dockarea.DockArea import DockArea\n",
    "import numpy as np\n",
    "\n",
    "desc = \"\"\" Plotting a sine curve \n",
    "   y = A sin(k x + phi) \n",
    " in the interval xmin...xmax\n",
    " using N points\n",
    " labeling the axes xlabel and ylabel.\n",
    "\n",
    " Explore the plot it has interactive features. \n",
    " Double clicking on the titles of the docks splits\n",
    " them off as separate windows.  \n",
    "\"\"\"\n",
    "def sin_curve(A=5, k=6.28, phi=0, xmin=0, xmax=2*np.pi, \n",
    "              N=300,xlabel=\"space\",ylabel=\"amplitude\"):\n",
    "    x = np.linspace(xmin,xmax, N)    \n",
    "    pw.clear()\n",
    "    pw.plot(x, A*np.sin(k*x + phi), pen=(150,150,255), name=\"Blue curve\")\n",
    "    pw.setLabel('bottom', xlabel, units='')\n",
    "    pw.setLabel('left', ylabel, units='')\n",
    "    return\n",
    "\n",
    "## One line of code, no name/value duplication\n",
    "params = interact(sin_curve)\n",
    "\n",
    "## makes app \n",
    "app = pg.mkQApp()\n",
    "## Define a top-level widget to hold everything\n",
    "win = QtWidgets.QMainWindow()\n",
    "win.setWindowTitle('PyQtGraph example for interactive plotting')\n",
    "area = DockArea()\n",
    "win.setCentralWidget(area)\n",
    "win.resize(1000,500)\n",
    "\n",
    "## Create docks, place them into the window one at a time.\n",
    "## Note that size arguments are only a suggestion; docks will still have to\n",
    "## fill the entire dock area and obey the limits of their internal widgets.\n",
    "d0 = Dock(\"Description\", closable=True)\n",
    "d1 = Dock(\"Dock1 - parameters\")     ## \n",
    "d2 = Dock(\"Dock2 - Plot\", size=(30,40))\n",
    "\n",
    "area.addDock(d2, 'right')     ## place plot at right edge of dock area\n",
    "area.addDock(d0,'left',d2)    ## description on the left\n",
    "area.addDock(d1, 'bottom', d0)  ## place parameters below description\n",
    "\n",
    "tree = ParameterTree()\n",
    "tree.setParameters(params)\n",
    "\n",
    "text = QtWidgets.QLabel(desc)\n",
    "\n",
    "## plot window\n",
    "pw = pg.PlotWidget()\n",
    "\n",
    "## Add widgets to the docks\n",
    "d1.addWidget(tree)  \n",
    "d2.addWidget(pw)  \n",
    "d0.addWidget(text)\n",
    "\n",
    "## Display the widget as a new window\n",
    "win.show()\n",
    "\n",
    "pg.exec()"
   ]
  },
  {
   "attachments": {},
   "cell_type": "markdown",
   "metadata": {},
   "source": [
    "Now let's create a visualization of one of our FFt based solvers"
   ]
  },
  {
   "cell_type": "code",
   "execution_count": 9,
   "metadata": {},
   "outputs": [
    {
     "ename": "",
     "evalue": "",
     "output_type": "error",
     "traceback": [
      "\u001b[1;31mThe Kernel crashed while executing code in the the current cell or a previous cell. Please review the code in the cell(s) to identify a possible cause of the failure. Click <a href='https://aka.ms/vscodeJupyterKernelCrash'>here</a> for more info. View Jupyter <a href='command:jupyter.viewOutput'>log</a> for further details."
     ]
    }
   ],
   "source": [
    " \"\"\"\n",
    "Demonstrate use of GLLinePlotItem to draw cross-sections of a surface.\n",
    "\"\"\"\n",
    "\n",
    "import numpy as np\n",
    "\n",
    "import pyqtgraph as pg\n",
    "import pyqtgraph.opengl as gl\n",
    "\n",
    "a = 0.5    # Thermal diffusivity constant\n",
    "L = 2     # Length of domain\n",
    "Tfinal = 2.\n",
    "\n",
    "N = 1024 # Number of spatial discretization points\n",
    "Nt = 200 # Number of time outputs\n",
    "\n",
    "dx = L/N\n",
    "x = np.arange(-L/2,L/2,dx) # Define x domain\n",
    "\n",
    "# Define discrete wave-numbers\n",
    "kappa = 2*np.pi*np.fft.fftfreq(N, d=dx)\n",
    "\n",
    "# Initial condition\n",
    "u0 = np.zeros_like(x)    # same shape as spatial grid\n",
    "u0[np.abs(x)<=0.25] = 1  # square shape pulse \n",
    "u0hat = np.fft.fft(u0)   # ICs in Fourier space\n",
    "\n",
    "# Simulate in Fourier frequency domain\n",
    "t = np.linspace(0, Tfinal, Nt)\n",
    "\n",
    "def heat_analytic_fourier(u0hat, kappa, a, t):\n",
    "    return  u0hat * np.exp(-(kappa**2 * a**2 * t))\n",
    "\n",
    "ua = np.zeros((N,Nt))\n",
    "uahat = np.zeros(N)\n",
    "\n",
    "# Fourier transform the solution back to configuration space \n",
    "for i, ct in enumerate(t):\n",
    "    uahat = heat_analytic_fourier(u0hat, kappa, a, ct)\n",
    "    ua[:,i] = np.fft.ifft(uahat).real\n",
    "\n",
    "\n",
    "app = pg.mkQApp(\"GLLinePlotItem Example\")\n",
    "w = gl.GLViewWidget()\n",
    "w.show()\n",
    "w.setWindowTitle('pyqtgraph example: GLLinePlotItem')\n",
    "w.setCameraPosition(distance=8)\n",
    "\n",
    "gx = gl.GLGridItem()\n",
    "gx.rotate(90, 0, 1, 0)\n",
    "gx.translate(-10, 0, 0)\n",
    "w.addItem(gx)\n",
    "gy = gl.GLGridItem()\n",
    "gy.rotate(90, 1, 0, 0)\n",
    "gy.translate(0, -10, 0)\n",
    "w.addItem(gy)\n",
    "gz = gl.GLGridItem()\n",
    "gz.translate(0, 0, -10)\n",
    "w.addItem(gz)\n",
    "\n",
    "for i in range(Nt):\n",
    "    yi = t[i]\n",
    "    d = x\n",
    "    z = ua[:,i]\n",
    "    pts = np.column_stack([x, np.full_like(x, yi), z])\n",
    "#    plt = gl.GLLinePlotItem(pos=pts, color=pg.mkColor((Nt/2-i,Nt*1.3)), width=4, antialias=True)\n",
    "    plt = gl.GLLinePlotItem(pos=pts, color=pg.mkColor(200,200,200,150), width=4, antialias=True)\n",
    "    w.addItem(plt)\n",
    "\n",
    "if __name__ == '__main__':\n",
    "    pg.exec()\n"
   ]
  },
  {
   "attachments": {},
   "cell_type": "markdown",
   "metadata": {},
   "source": [
    "### In class exercise:\n",
    "\n",
    "Modify the 3D OpenGL example above so that it also uses a ```ParameterTree``` widget and allows to interactively change some parameters of the plot. You should be able to reuse most concepts from the first example above for the ```sine_curve``` application."
   ]
  },
  {
   "cell_type": "code",
   "execution_count": 1,
   "metadata": {},
   "outputs": [],
   "source": [
    " \"\"\"\n",
    "Demonstrate use of GLLinePlotItem to draw cross-sections of a surface.\n",
    "\"\"\"\n",
    "import numpy as np\n",
    "import pyqtgraph as pg\n",
    "import pyqtgraph.opengl as gl\n",
    "from pyqtgraph.Qt import QtWidgets\n",
    "from pyqtgraph.parametertree import Parameter, ParameterTree, interact\n",
    "from pyqtgraph.dockarea.Dock import Dock\n",
    "from pyqtgraph.dockarea.DockArea import DockArea\n",
    "\n",
    "def heat_equation_gui(a=0.5, L=2,Tfinal=2.,trans=0.5,N=1024,Nt=200):\n",
    "\n",
    "    dx = L/N\n",
    "    x = np.arange(-L/2,L/2,dx) # Define x domain\n",
    "\n",
    "    # Define discrete wave-numbers\n",
    "    kappa = 2*np.pi*np.fft.fftfreq(N, d=dx)\n",
    "\n",
    "    # Initial condition\n",
    "    u0 = np.zeros_like(x)    # same shape as spatial grid\n",
    "    u0[np.abs(x)<=0.25] = 1  # square shape pulse \n",
    "    u0hat = np.fft.fft(u0)   # ICs in Fourier space\n",
    "\n",
    "    # Simulate in Fourier frequency domain\n",
    "    t = np.linspace(0, Tfinal, Nt)\n",
    "\n",
    "    def heat_analytic_fourier(u0hat, kappa, a, t):\n",
    "        return  u0hat * np.exp(-(kappa**2 * a**2 * t))\n",
    "\n",
    "    ua = np.zeros((N,Nt))\n",
    "    uahat = np.zeros(N)\n",
    "\n",
    "    # Fourier transform the solution back to configuration space \n",
    "    for i, ct in enumerate(t):\n",
    "        uahat = heat_analytic_fourier(u0hat, kappa, a, ct)\n",
    "        ua[:,i] = np.fft.ifft(uahat).real\n",
    "\n",
    "    w.clear()\n",
    "    for i in range(Nt):\n",
    "        yi = t[i]\n",
    "        d = x\n",
    "        z = ua[:,i]\n",
    "        pts = np.column_stack([x, np.full_like(x, yi), z])\n",
    "    #    plt = gl.GLLinePlotItem(pos=pts, color=pg.mkColor((Nt/2-i,Nt*1.3)), width=4, antialias=True)\n",
    "        plt = gl.GLLinePlotItem(pos=pts, color=pg.mkColor(200,200,200,np.int64(255*trans)), width=4, antialias=True)\n",
    "        w.addItem(plt)\n",
    "\n",
    "    return \n",
    "\n",
    "## One line of code, no name/value duplication\n",
    "params = interact(heat_equation_gui)\n",
    "\n",
    "\n",
    "app = pg.mkQApp(\"GLLinePlotItem Example\")\n",
    "w = gl.GLViewWidget()\n",
    "\n",
    "gx = gl.GLGridItem()\n",
    "gx.rotate(90, 0, 1, 0)\n",
    "gx.translate(-10, 0, 0)\n",
    "w.addItem(gx)\n",
    "gy = gl.GLGridItem()\n",
    "gy.rotate(90, 1, 0, 0)\n",
    "gy.translate(0, -10, 0)\n",
    "w.addItem(gy)\n",
    "gz = gl.GLGridItem()\n",
    "gz.translate(0, 0, -10)\n",
    "w.addItem(gz)\n",
    "w.setCameraPosition(distance=8)\n",
    "\n",
    "# Populate w with the standard solution\n",
    "\n",
    "ua = heat_equation_gui()\n",
    "\n",
    "## Define a top-level widget to hold everything\n",
    "win = QtWidgets.QMainWindow()\n",
    "win.setWindowTitle('PyQtGraph example for interactive plotting')\n",
    "area = DockArea()\n",
    "win.setCentralWidget(area)\n",
    "win.resize(1000,500)\n",
    "\n",
    "## Create docks, place them into the window one at a time.\n",
    "## Note that size arguments are only a suggestion; docks will still have to\n",
    "## fill the entire dock area and obey the limits of their internal widgets.\n",
    "d0 = Dock(\"Description\", closable=True)\n",
    "d1 = Dock(\"Dock1 - parameters\")     ## \n",
    "d2 = Dock(\"Dock2 - Plot\", size=(30,40))\n",
    "\n",
    "area.addDock(d2, 'right')     ## place plot at right edge of dock area\n",
    "area.addDock(d0,'left',d2)    ## description on the left\n",
    "area.addDock(d1, 'bottom', d0)  ## place parameters below description\n",
    "\n",
    "tree = ParameterTree()\n",
    "tree.setParameters(params)\n",
    "\n",
    "desc = \"\"\" Plotting solution to the heat equation \n",
    "\"\"\"\n",
    "\n",
    "text = QtWidgets.QLabel(desc)\n",
    "\n",
    "## Add widgets to the docks\n",
    "d1.addWidget(tree)  \n",
    "d2.addWidget(w)  \n",
    "d0.addWidget(text)\n",
    "\n",
    "## Display the widget as a new window\n",
    "win.show()\n",
    "\n",
    "if __name__ == '__main__':\n",
    "    pg.exec()\n"
   ]
  },
  {
   "cell_type": "code",
   "execution_count": null,
   "metadata": {},
   "outputs": [],
   "source": []
  }
 ],
 "metadata": {
  "kernelspec": {
   "display_name": "base",
   "language": "python",
   "name": "python3"
  },
  "language_info": {
   "codemirror_mode": {
    "name": "ipython",
    "version": 3
   },
   "file_extension": ".py",
   "mimetype": "text/x-python",
   "name": "python",
   "nbconvert_exporter": "python",
   "pygments_lexer": "ipython3",
   "version": "3.9.16"
  },
  "orig_nbformat": 4
 },
 "nbformat": 4,
 "nbformat_minor": 2
}
