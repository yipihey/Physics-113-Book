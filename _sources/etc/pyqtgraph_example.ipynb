{
 "cells": [
  {
   "attachments": {},
   "cell_type": "markdown",
   "metadata": {},
   "source": [
    "## Graphical User Interface (GUI) programming\n",
    "\n",
    "It can be tremendous fun to build a graphical user interface for your programs to aid your exploration. [```pyqtgraph```](https://pyqtgraph.readthedocs.io/en/latest/) is a library that makes this large and intimidating subject more straight forward. \n",
    "\n",
    "Here we will walk through installation and exploring the examples of the libraries before we make a small example that shows off a few of the powerful concepts in ```pyqtgraph```.\n",
    "\n",
    "![Screen shot of our example using pyqtgraph](PyQtGraphExampleAppScreenshot.png)"
   ]
  },
  {
   "attachments": {},
   "cell_type": "markdown",
   "metadata": {},
   "source": [
    "### Install ```pyqtgraph```\n",
    "\n",
    "Here is the [website with the installation instructions](https://pyqtgraph.readthedocs.io/en/latest/getting_started/installation.html). "
   ]
  },
  {
   "cell_type": "code",
   "execution_count": 2,
   "metadata": {},
   "outputs": [
    {
     "data": {
      "text/html": [
       "\n",
       "        <iframe\n",
       "            width=\"700\"\n",
       "            height=\"600\"\n",
       "            src=\"https://pyqtgraph.readthedocs.io/en/latest/getting_started/installation.html\"\n",
       "            frameborder=\"0\"\n",
       "            allowfullscreen\n",
       "            \n",
       "        ></iframe>\n",
       "        "
      ],
      "text/plain": [
       "<IPython.lib.display.IFrame at 0x10f0fa460>"
      ]
     },
     "execution_count": 2,
     "metadata": {},
     "output_type": "execute_result"
    }
   ],
   "source": [
    "from IPython.display import IFrame\n",
    "IFrame(src='https://pyqtgraph.readthedocs.io/en/latest/getting_started/installation.html', width=700, height=600)"
   ]
  },
  {
   "attachments": {},
   "cell_type": "markdown",
   "metadata": {},
   "source": [
    "Once you have it installed we want to explore at least some of the many examples that come with the library. "
   ]
  },
  {
   "cell_type": "code",
   "execution_count": 4,
   "metadata": {},
   "outputs": [],
   "source": [
    "import pyqtgraph.examples\n",
    "pyqtgraph.examples.run()"
   ]
  },
  {
   "attachments": {},
   "cell_type": "markdown",
   "metadata": {},
   "source": [
    "### One simple interactive plotting application\n",
    "\n",
    "In this next example note that we have a single function ```sin_curve``` that has all named parameters. With one single command ```interact``` the library extracts all of those as parameters and makes them available via the ```ParameterTree``` widget in a list view such that they all can individually be modified. \n",
    "\n",
    "So for any function that you have you can wrap it analogously to generate a graphical user interface for it. "
   ]
  },
  {
   "cell_type": "code",
   "execution_count": 7,
   "metadata": {},
   "outputs": [
    {
     "data": {
      "text/plain": [
       "0"
      ]
     },
     "execution_count": 7,
     "metadata": {},
     "output_type": "execute_result"
    }
   ],
   "source": [
    "# pyqtgraph example app\n",
    "from pyqtgraph.Qt import QtWidgets\n",
    "import pyqtgraph as pg\n",
    "from pyqtgraph.parametertree import Parameter, ParameterTree, interact\n",
    "from pyqtgraph.dockarea.Dock import Dock\n",
    "from pyqtgraph.dockarea.DockArea import DockArea\n",
    "import numpy as np\n",
    "\n",
    "desc = \"\"\" Plotting a sine curve \n",
    "   y = A sin(k x + phi) \n",
    " in the interval xmin...xmax\n",
    " using N points\n",
    " labeling the axes xlabel and ylabel.\n",
    "\n",
    " Explore the plot it has interactive features. \n",
    " Double clicking on the titles of the docks splits\n",
    " them off as separate windows.  \n",
    "\"\"\"\n",
    "def sin_curve(A=5, k=6.28, phi=0, xmin=0, xmax=2*np.pi, \n",
    "              N=300,xlabel=\"space\",ylabel=\"amplitude\"):\n",
    "    x = np.linspace(xmin,xmax, N)    \n",
    "    pw.clear()\n",
    "    pw.plot(x, A*np.sin(k*x + phi), pen=(150,150,255), name=\"Blue curve\")\n",
    "    pw.setLabel('bottom', xlabel, units='')\n",
    "    pw.setLabel('left', ylabel, units='')\n",
    "    return\n",
    "\n",
    "## One line of code, no name/value duplication\n",
    "params = interact(sin_curve)\n",
    "\n",
    "## makes app \n",
    "app = pg.mkQApp()\n",
    "## Define a top-level widget to hold everything\n",
    "win = QtWidgets.QMainWindow()\n",
    "win.setWindowTitle('PyQtGraph example for interactive plotting')\n",
    "area = DockArea()\n",
    "win.setCentralWidget(area)\n",
    "win.resize(1000,500)\n",
    "\n",
    "## Create docks, place them into the window one at a time.\n",
    "## Note that size arguments are only a suggestion; docks will still have to\n",
    "## fill the entire dock area and obey the limits of their internal widgets.\n",
    "d0 = Dock(\"Description\", closable=True)\n",
    "d1 = Dock(\"Dock1 - parameters\")     ## \n",
    "d2 = Dock(\"Dock2 - Plot\", size=(30,40))\n",
    "\n",
    "area.addDock(d2, 'right')     ## place plot at right edge of dock area\n",
    "area.addDock(d0,'left',d2)    ## description on the left\n",
    "area.addDock(d1, 'bottom', d0)  ## place parameters below description\n",
    "\n",
    "tree = ParameterTree()\n",
    "tree.setParameters(params)\n",
    "\n",
    "text = QtWidgets.QLabel(desc)\n",
    "\n",
    "## plot window\n",
    "pw = pg.PlotWidget()\n",
    "\n",
    "## Add widgets to the docks\n",
    "d1.addWidget(tree)  \n",
    "d2.addWidget(pw)  \n",
    "d0.addWidget(text)\n",
    "\n",
    "## Display the widget as a new window\n",
    "win.show()\n",
    "\n",
    "pg.exec()"
   ]
  }
 ],
 "metadata": {
  "kernelspec": {
   "display_name": "base",
   "language": "python",
   "name": "python3"
  },
  "language_info": {
   "codemirror_mode": {
    "name": "ipython",
    "version": 3
   },
   "file_extension": ".py",
   "mimetype": "text/x-python",
   "name": "python",
   "nbconvert_exporter": "python",
   "pygments_lexer": "ipython3",
   "version": "3.9.16"
  },
  "orig_nbformat": 4
 },
 "nbformat": 4,
 "nbformat_minor": 2
}
