{
 "cells": [
  {
   "cell_type": "markdown",
   "metadata": {},
   "source": [
    "## Lagrangian Hydrodynamics"
   ]
  },
  {
   "cell_type": "markdown",
   "metadata": {},
   "source": [
    "<h3>INTRODUCTION</h3>\n",
    "An inviscid fluid flow is described through the following conservation equations collectively known as the <b>Euler equations</b>.\n",
    "\n",
    "Conservation of mass (continuity equation):\n",
    "$$\n",
    "\\dot{\\rho} + \\nabla(\\rho\\,\\mathbf{v}) = 0, \\ \\ \\text{or} \\ \\ \\ \\ \\left( \\frac{\\partial }{\\partial t} + \\mathbf{v} \\nabla\\right) \\rho = - \\rho \\nabla\\mathbf{v}\n",
    "$$\n",
    "\n",
    "Conservation of momentum: (Navier Stokes equation)\n",
    "$$\n",
    "\\rho \\left( \\frac{\\partial }{\\partial t} + \\mathbf{v} \\cdot \\nabla  \\right) \\mathbf{v}= -\\nabla p + \\rho \\nu \\nabla^2 \\mathbf{v},\n",
    "$$\n",
    "where $\\nu$ is the kinematic viscosity.\n",
    "\n",
    "Conservation of energy: \n",
    "$$\n",
    "\\frac{\\partial e}{\\partial t} + \\nabla\\cdot(e\\,\\mathbf{v}) + p\\nabla\\cdot\\mathbf{v} = 0\n",
    "$$\n",
    "\n",
    "In certain situations the pressure can sometimes be expressed as a function of $\\rho$ only. Such as in the isothermal equation of state $p=c_0^2\\,\\rho$, where $c_0$ is the speed of sound. In this case the behavior is given only from the continuity equation and the momentum equation. Because $\\nabla p=c_0^2 \\nabla\\rho$ and that is all we need for the momentum equation.\n",
    "\n",
    "In this case for a Lagrangian description this boils down to solving this single equation:\n",
    "$$\n",
    "\\frac{D\\mathbf{v}}{Dt} = -\\frac{1}{\\rho}\\nabla p\n",
    "$$\n",
    "\n",
    "So we have a second-order differential equation for the positions of our mass grid. \n",
    "\n",
    "So imagine we discretized the total mass $M$ with $N$ shells of mass, $\\triangle m$ , with edges of $r_i$ with $0<i<N$ in the domain $[0,1]$. Call the initial pressure distribution at time zero $p_0$ and realize that the density, $\\rho_i$ in our grid zones is always just simply given by $\\rho_i = \\triangle m/|r_{i+1}-r_{i}|$. So if we can describe our fluid purely with an equation of state described by $p = c_0^2\\rho$ we only need to store the initial value of $c_0$ which may be a different in differenct parcels of the gas. \n",
    "\n",
    "We will first use a simple leap frog integrator to solve this. This operates in two parts. First we update the positions by half a time step $r_i = r_i + (dt/2)\\,v_i$ then using these positions to calculate the accelerations \n",
    "\n",
    "\\begin{equation}\n",
    "-\\frac{1}{\\rho}\\nabla p = - \\frac{|r_{i+1}-r_i|}{\\triangle m} \n",
    " \\nabla \\left(\\frac{\\triangle m c_{0,i}^2}{|r_{i+1}-r_i|}\\right)=-\\frac{1}{\\triangle m} \\triangle r_i \\nabla\\frac{\\triangle m c_{0,i}^2}{\\triangle r_i},\n",
    "\\end{equation}\n",
    "where $\\triangle r_i = |r_{i+1}-r_i|$. Then we do the remaining part of the kick of the positions $r_i = r_i + (dt/2)\\,v_i$. The two kicks can be combined one we keep them separate here so that at outputs we have positions and velocities at the same time. In the case where all shells have the same mass we could even eliminate $\\triangle m$ in the accelerations. This may not in general be the case, however, so we keep it.\n",
    "<p>\n",
    "For the special case where pressure is only a function of density these are the only equations we would need. More gnerally we also have to consider an energy (or entropy) equation in order to account for the possibility that the internal energy could be different for different densities. However, in the Lagrangian case we know right away that the energy change is just the work done on the cell. I.e.\n",
    "$$\n",
    "\\frac{Du}{dt} = - p \\frac{dV}{dt},\n",
    "$$ \n",
    "where $dV$ is the rate of change of the fluid element volume we are considering. \n",
    "\n",
    "<h3>Sound waves</h3>\n",
    "\n",
    "Linearizing the continuity and momentum equation above for small perturbations $\\rho_1$ and $v_1$ (i.e. assume $\\rho = \\rho_0 + \\rho_1$ and $v = 0+v_1$) and differentiating the momentum equation one more time in time we can obtain the wave solutions with the linear dispersion relation $\\omega=ck$\n",
    "$$\n",
    "v = v_{a} \\exp[i(kx+\\omega t)] = v_{a}\\exp[ik(x + c t)] , \\ \\ \\ \\rho = \\rho_0 \\left(1-\\frac{v_1}{c}\\right).\n",
    "$$\n",
    "The mass coordinate is \n",
    "$$\n",
    "m(x) = \\int_0^1 \\rho dx = \\rho_0\\left[x+\\frac{v_a}{2\\pi\\,c_0}(\\cos(2\\pi\\,x)-1)\\right]\n",
    "$$\n",
    "so to set up a simple test we can choose equidistant points in mass and derive the positions by finding the roots of this last equation. \n"
   ]
  },
  {
   "cell_type": "code",
   "execution_count": 2,
   "metadata": {
    "jupyter": {
     "outputs_hidden": false
    }
   },
   "outputs": [
    {
     "name": "stdout",
     "output_type": "stream",
     "text": [
      "Populating the interactive namespace from numpy and matplotlib\n",
      "664  time steps to time:  0.600526954074\n"
     ]
    },
    {
     "data": {
      "image/png": "[encoded data removed]",
      "text/plain": [
       "<matplotlib.figure.Figure at 0x110586490>"
      ]
     },
     "metadata": {},
     "output_type": "display_data"
    }
   ],
   "source": [
    "%pylab inline\n",
    "import time as systime\n",
    "#from scitools.std import as sci\n",
    "from scipy.optimize import brentq \n",
    "\n",
    "def accGradP(dr,m,c):\n",
    "    diff = c**2* (m/fabs(dr))\n",
    "    return -1./m*dr*(diff-np.roll(diff,1))/(0.5*fabs(dr+np.roll(dr,1)))\n",
    "\n",
    "N = 100\n",
    "r = (0.+np.arange(N))/N\n",
    "va = .1\n",
    "rho0 = 1.\n",
    "c = 1.\n",
    "v = va*sin(4.*np.pi*r)\n",
    "c0 = np.ones(N)\n",
    "c0[:] = c\n",
    "m = 1./N\n",
    "\n",
    "mass = lambda x,off: rho0*(x+va/c*(cos(4.*np.pi*x)-1)/4/np.pi)-off\n",
    "for i in range(len(r)):\n",
    "    r[i] = brentq(mass,0,1,args=(r[i]))\n",
    "dr = np.roll(r,-1)-r\n",
    "\n",
    "    \n",
    "Courantfactor = 0.1\n",
    "dt = Courantfactor * 1./N\n",
    "\n",
    "tfinal = 0.6\n",
    "time = [0.]\n",
    "vmax = [max(v)]\n",
    "count=0\n",
    "while (time[-1]<tfinal and count < 500000):\n",
    "    r += dt/2 * v\n",
    "    r[r>1] -= 1.\n",
    "    r[r<0] += 1.\n",
    "    dr = np.roll(r,-1)-r\n",
    "    ind = where(fabs(dr)>0.5)\n",
    "    dr[ind] = fabs(1.+dr[ind])\n",
    "    acc = accGradP(dr,m,c0) \n",
    "    v += dt * acc\n",
    "#    print accGradP(r,m,c0)\n",
    "    r += dt/2 * v\n",
    "    dt = Courantfactor*min(dr)/max((max(c0),max(v)))\n",
    "    time.append((time[-1]+dt))\n",
    "    count += 1\n",
    "    vmax.append(max(v))\n",
    "    \n",
    "print count, ' time steps to time: ', time[-1]\n",
    "plot(r,v,'.',label=\"velocity\")\n",
    "xlabel(\"position\")\n",
    "legend();"
   ]
  },
  {
   "cell_type": "code",
   "execution_count": 3,
   "metadata": {
    "jupyter": {
     "outputs_hidden": false
    }
   },
   "outputs": [
    {
     "data": {
      "image/png": "[encoded data removed]",
      "text/plain": [
       "<matplotlib.figure.Figure at 0x11056b610>"
      ]
     },
     "metadata": {},
     "output_type": "display_data"
    }
   ],
   "source": [
    "plot(r,m/dr,label=\"density\");\n",
    "xlabel('position')\n",
    "legend();"
   ]
  },
  {
   "cell_type": "markdown",
   "metadata": {},
   "source": [
    "<h4>Oh no!!!</h4>\n",
    "\n",
    "Did we screw up our approach to solving the equations? \n",
    "What happened to our wave? \n",
    "\n"
   ]
  },
  {
   "cell_type": "markdown",
   "metadata": {},
   "source": [
    "## Wave steepening"
   ]
  },
  {
   "cell_type": "markdown",
   "metadata": {},
   "source": [
    "Essentially all non-linear wave steepen! The ones that do not are arranged such that their dispersion just cancels the steepening. These are called <i>solitary wave</i> or <a href=\"http://en.wikipedia.org/wiki/Soliton\" target=\"_blank\"><i>solitons</i></a>. This is actually quite easy to understand. The sound speed of a gas is given by $c^2 = \\partial p/\\partial \\rho$"
   ]
  },
  {
   "cell_type": "markdown",
   "metadata": {},
   "source": [
    "<h3>Artificial Viscosity</h3>\n",
    "\n",
    "<a href=\"http://jap.aip.org/resource/1/japiau/v21/i3/p232_s1\">A Method for the Numerical Calculation of Hydrodynamic Shocks</a>\n",
    "1950 by J. VonNeumann and R. D. Richtmyer layed out how to study shock waves by inroducing a so called artificial viscosity into the method. Let us explore this and see whether we can make it work. "
   ]
  },
  {
   "cell_type": "code",
   "execution_count": 4,
   "metadata": {
    "jupyter": {
     "outputs_hidden": false
    }
   },
   "outputs": [
    {
     "name": "stdout",
     "output_type": "stream",
     "text": [
      "1326  time steps to time:  1.50089796648\n"
     ]
    },
    {
     "data": {
      "image/png": "[encoded data removed]",
      "text/plain": [
       "<matplotlib.figure.Figure at 0x110fb2a90>"
      ]
     },
     "metadata": {},
     "output_type": "display_data"
    }
   ],
   "source": [
    "def accVisc(dr,m,v,dx_smear=.01):\n",
    "    dv = (np.roll(v,-1)-v)/dr\n",
    "    dif = -dx_smear**2 *dv*fabs(dv)  *(fabs(dr)/m)\n",
    "    return -1./m*dr*(dif-np.roll(dif,1))/(0.5*fabs(dr+np.roll(dr,1)))\n",
    "\n",
    "def accGradP(dr,m,c):\n",
    "    dif = c**2* (m/fabs(dr))\n",
    "    return -1./m*dr*(dif-np.roll(dif,1))/(0.5*fabs(dr+np.roll(dr,1)))\n",
    "\n",
    "N = 160\n",
    "r = (0.+np.arange(N))/N\n",
    "xL = r+.5/N\n",
    "va = .1\n",
    "rho0 = 1.\n",
    "c = 1.\n",
    "v = va*sin(4.*np.pi*r)\n",
    "c0 = np.ones(N)\n",
    "c0[:] = c\n",
    "m = 1./N\n",
    "\n",
    "mass = lambda x,off: rho0*(x+va/c*(cos(4.*np.pi*x)-1)/4/np.pi)-off\n",
    "for i in range(len(r)):\n",
    "    r[i] = brentq(mass,0,1,args=(r[i]))\n",
    "dr = np.roll(r,-1)-r\n",
    "\n",
    "Courantfactor = 0.2\n",
    "dt = Courantfactor * 1./N/max(v)\n",
    "\n",
    "tfinal = 1.5\n",
    "time = [0.]\n",
    "vmax = [max(v)]\n",
    "count=0\n",
    "while (time[-1]<tfinal and count < 500000):\n",
    "    r += dt/2 * v\n",
    "    r[r>1] -= 1.\n",
    "    r[r<0] += 1.\n",
    "    dr = np.roll(r,-1)-r\n",
    "    ind = where(fabs(dr)>0.5)\n",
    "    dr[ind] = fabs(1.+dr[ind])\n",
    "    acc = accGradP(dr,m,c0) + accVisc(dr,m,v,dx_smear=.02)\n",
    "    v += dt * acc\n",
    "#    print accGradP(r,m,c0)\n",
    "    r += dt/2 * v\n",
    "    dt = Courantfactor*min(dr)/max((max(c0),max(v)))\n",
    "\n",
    "    time.append((time[-1]+dt))\n",
    "    count += 1\n",
    "    vmax.append(max(v))\n",
    "    \n",
    "print count, ' time steps to time: ', time[-1]\n",
    "plot(r,v,'.',label=\"velocity\")\n",
    "xlabel(\"position\")\n",
    "legend();"
   ]
  },
  {
   "cell_type": "code",
   "execution_count": 5,
   "metadata": {
    "jupyter": {
     "outputs_hidden": false
    }
   },
   "outputs": [
    {
     "data": {
      "image/png": "[encoded data removed]",
      "text/plain": [
       "<matplotlib.figure.Figure at 0x111173290>"
      ]
     },
     "metadata": {},
     "output_type": "display_data"
    }
   ],
   "source": [
    "plot(r,accGradP(dr,m,c0), r, .01*accVisc(dr,m,v,dx_smear=.5));"
   ]
  },
  {
   "cell_type": "markdown",
   "metadata": {},
   "source": [
    "Clean up the code a bit."
   ]
  },
  {
   "cell_type": "code",
   "execution_count": 6,
   "metadata": {
    "jupyter": {
     "outputs_hidden": false
    }
   },
   "outputs": [],
   "source": [
    "def diff(y):\n",
    "    return y[1:]-y[0:-1]\n",
    "def av(y):\n",
    "    return (y[1:]+y[0:-1])/2\n",
    "def eos_u(rho, p):\n",
    "    u = p\n",
    "    return u\n",
    "    \n",
    "class EquationOfState:\n",
    "    def __init__(self, gammain):\n",
    "        self.gamma = gammain\n",
    "    def u(self,rho,p):\n",
    "        return 1./(self.gamma-1.) * p/rho\n",
    "    def cs(self,rho,p):\n",
    "        return sqrt(self.gamma*p/rho)\n",
    "    def p(self,rho,u):\n",
    "        return (self.gamma-1)*rho*u\n",
    "\n",
    "def VNR_q(dr,dm,v,kdx=.1):\n",
    "    '''return VanNeumann Richtmyer viscosity'''\n",
    "    dv = (v-np.roll(v,-1))/dr\n",
    "    q = -kdx**2 *dv*fabs(dv)  *dr/dm\n",
    "    return q\n",
    "\n",
    "def accGradP(dr,m,p):\n",
    "    rho = m/dr\n",
    "    return -1./rho*(p-np.roll(p,1))/(0.5*fabs(dr+np.roll(dr,1)))\n",
    "\n",
    "gasgamma = 1.001\n",
    "eos = EquationOfState(gasgamma)\n",
    "\n",
    "def LagrangeHydro(tfinal, r, v, dm, p):\n",
    "    N = len(r)\n",
    "    Courantfactor = 0.2\n",
    "    dr = np.roll(r,-1)-r # cell volumes. \n",
    "    ind = where(fabs(dr)>0.5)\n",
    "    dr[ind] = fabs(1.+dr[ind])\n",
    "    drold = dr\n",
    "    rho = dm/dr\n",
    "    u = eos.u(rho, p)\n",
    "    cs = eos.cs(rho,p)\n",
    "    dt = Courantfactor * 1./N/max((max(cs), max(v)))\n",
    "    kvnr = 4.\n",
    "    dxvnr = 1./N\n",
    "\n",
    "    count=0\n",
    "    time = 0.\n",
    "    while (time<tfinal and count < 500000):\n",
    "        r += dt/2 * v\n",
    "        dr = np.roll(r,-1)-r\n",
    "        ind = where(fabs(dr)>0.5)\n",
    "        dr[ind] = fabs(1.+dr[ind])\n",
    "        q = VNR_q(dr,dm,v,kdx=kvnr*dxvnr)\n",
    "        p = eos.p(dm/dr,u)\n",
    "        \n",
    "        acc = accGradP(dr,m,p+q) \n",
    "        v += dt * acc\n",
    "    #    print accGradP(r,m,c0)\n",
    "        r += dt/2 * v\n",
    "        r[r>1] -= 1.\n",
    "        r[r<0] += 1.\n",
    "\n",
    "        dr = np.roll(r,-1)-r # cell volumes. \n",
    "        ind = where(fabs(dr)>0.5)\n",
    "        dr[ind] = fabs(1.+dr[ind])\n",
    "        \n",
    "        dV = dr-drold\n",
    "        u -= (p+q)*dV/dm\n",
    "        rho = dm/dr\n",
    "        p = eos.p(rho,u)\n",
    "        \n",
    "        drold = dr\n",
    "        time += dt\n",
    "        dt = Courantfactor*min(abs(dr))/(max(eos.cs(rho,p+q)+abs((v-np.roll(v,-1)) ))) # new time step\n",
    "\n",
    "        count += 1\n",
    "    return r, v, rho, p, u"
   ]
  },
  {
   "cell_type": "code",
   "execution_count": 7,
   "metadata": {
    "jupyter": {
     "outputs_hidden": false
    }
   },
   "outputs": [],
   "source": [
    "N = 160\n",
    "r = (0.+np.arange(N))/N\n",
    "xL = r+.5/N\n",
    "va = .1\n",
    "rho0 = 1.\n",
    "c = 1.\n",
    "v = va*sin(4.*np.pi*r)\n",
    "c0 = np.ones(N)\n",
    "c0[:] = c\n",
    "m = 1./N\n",
    "\n",
    "mass = lambda x,off: rho0*(x+va/c*(cos(4.*np.pi*x)-1)/4/np.pi)-off\n",
    "for i in range(len(r)):\n",
    "    r[i] = brentq(mass,0,1,args=(r[i]))\n",
    "dr = np.roll(r,-1)-r\n",
    "ind = where(fabs(dr)>0.5)\n",
    "dr[ind] = fabs(1.+dr[ind])\n",
    "\n",
    "p = m/dr\n",
    "\n",
    "r, v, den, p, u = LagrangeHydro(.1, r, v, m, p)"
   ]
  },
  {
   "cell_type": "code",
   "execution_count": 8,
   "metadata": {
    "jupyter": {
     "outputs_hidden": false
    }
   },
   "outputs": [],
   "source": [
    "import JSAnimation\n",
    "from JSAnimation import IPython_display\n",
    "from matplotlib import animation\n",
    "\n",
    "def HydroMovie(solver, h=1.0, tfinal=2*2.0*np.pi, w0=1.0, phase=1.0):\n",
    "    x, v, t = solver(tfinal, h, w0, phase)\n",
    "    \n",
    "    skiprate = int(len(t) / 100)\n",
    "    skiprate = max(skiprate, 1)\n",
    "    t = t[::skiprate]\n",
    "    x = x[::skiprate]\n",
    "    v = v[::skiprate]\n",
    "    # create a simple animation\n",
    "    fig = plt.figure()\n",
    "\n",
    "    ax = plt.axes(xlim=(-2, 2), ylim=(-2, 2))\n",
    "    line, = ax.plot([], [], lw=2)\n",
    "    ax.set_xlabel('x')\n",
    "    ax.set_ylabel('v')\n",
    "        \n",
    "    def init():\n",
    "        line.set_data([], [])\n",
    "        return line,\n",
    "    \n",
    "    def animate(i):\n",
    "        line.set_data(x[:i], v[:i])\n",
    "        return line,\n",
    "    \n",
    "    return animation.FuncAnimation(fig, animate, init_func=init,\n",
    "                            frames=len(t), interval=60, blit=True)"
   ]
  },
  {
   "cell_type": "code",
   "execution_count": 9,
   "metadata": {
    "jupyter": {
     "outputs_hidden": false
    }
   },
   "outputs": [],
   "source": [
    "\n",
    "mass = lambda x,off: rho0*(x+va/c*(cos(4.*np.pi*x)-1)/4/np.pi)-off\n",
    "for i in range(len(r)):\n",
    "    r[i] = brentq(mass,0,1,args=(r[i]))\n",
    "dr = np.roll(r,-1)-r\n"
   ]
  },
  {
   "cell_type": "code",
   "execution_count": 93,
   "metadata": {
    "jupyter": {
     "outputs_hidden": false
    }
   },
   "outputs": [
    {
     "data": {
      "text/plain": [
       "[<matplotlib.lines.Line2D at 0x109a5d590>]"
      ]
     },
     "execution_count": 93,
     "metadata": {},
     "output_type": "execute_result"
    },
    {
     "data": {
      "image/png": "[encoded data removed]",
      "text/plain": [
       "<matplotlib.figure.Figure at 0x109a151d0>"
      ]
     },
     "metadata": {},
     "output_type": "display_data"
    }
   ],
   "source": [
    "plot(r)"
   ]
  },
  {
   "cell_type": "code",
   "execution_count": 100,
   "metadata": {
    "jupyter": {
     "outputs_hidden": false
    }
   },
   "outputs": [
    {
     "data": {
      "text/plain": [
       "array([ 0.00698341,  0.00706192,  0.0071363 ,  0.00720572,  0.00726939,\n",
       "        0.00732676,  0.00737728,  0.00741957,  0.00745207,  0.00747435,\n",
       "        0.0074859 ,  0.00748623,  0.00747528,  0.00745284,  0.00741937,\n",
       "        0.00737537,  0.00732124,  0.00725829,  0.00718708,  0.00710909,\n",
       "        0.00702527,  0.00693694,  0.0068452 ,  0.00675134,  0.00665609,\n",
       "        0.00656097,  0.00646619,  0.00637302,  0.00628199,  0.00619343,\n",
       "        0.006108  ,  0.0060261 ,  0.00594791,  0.00587364,  0.0058035 ,\n",
       "        0.00573763,  0.00567612,  0.00561904,  0.00556641,  0.00551825,\n",
       "        0.00547449,  0.00543507,  0.00540004,  0.00536937,  0.00534296,\n",
       "        0.00532082,  0.00530305,  0.00528985,  0.00528111,  0.00527655,\n",
       "        0.0052763 ,  0.00528057,  0.00528899,  0.00530164,  0.00531879,\n",
       "        0.00533992,  0.00536548,  0.0053952 ,  0.00542903,  0.00546717,\n",
       "        0.00550922,  0.00555554,  0.00560565,  0.00565988,  0.00571775,\n",
       "        0.00577951,  0.00584474,  0.00591343,  0.00598547,  0.00606038,\n",
       "        0.00613821,  0.00621859,  0.00630104,  0.00638532,  0.00647107,\n",
       "        0.00655777,  0.00664482,  0.0067316 ,  0.00681745,  0.00690165,\n",
       "        0.00698341,  0.00706192,  0.0071363 ,  0.00720572,  0.00726939,\n",
       "        0.00732676,  0.00737728,  0.00741957,  0.00745207,  0.00747435,\n",
       "        0.0074859 ,  0.00748623,  0.00747528,  0.00745284,  0.00741937,\n",
       "        0.00737537,  0.00732124,  0.00725829,  0.00718708,  0.00710909,\n",
       "        0.00702527,  0.00693694,  0.0068452 ,  0.00675134,  0.00665609,\n",
       "        0.00656097,  0.00646619,  0.00637302,  0.00628199,  0.00619343,\n",
       "        0.006108  ,  0.0060261 ,  0.00594791,  0.00587364,  0.0058035 ,\n",
       "        0.00573763,  0.00567612,  0.00561904,  0.00556641,  0.00551825,\n",
       "        0.00547449,  0.00543507,  0.00540004,  0.00536937,  0.00534296,\n",
       "        0.00532082,  0.00530305,  0.00528985,  0.00528111,  0.00527655,\n",
       "        0.0052763 ,  0.00528057,  0.00528899,  0.00530164,  0.00531879,\n",
       "        0.00533992,  0.00536548,  0.0053952 ,  0.00542903,  0.00546717,\n",
       "        0.00550922,  0.00555554,  0.00560565,  0.00565988,  0.00571775,\n",
       "        0.00577951,  0.00584474,  0.00591343,  0.00598547,  0.00606038,\n",
       "        0.00613821,  0.00621859,  0.00630104,  0.00638532,  0.00647107,\n",
       "        0.00655777,  0.00664482,  0.0067316 ,  0.00681745, -0.99309835])"
      ]
     },
     "execution_count": 100,
     "metadata": {},
     "output_type": "execute_result"
    }
   ],
   "source": [
    "mf = range(10)\n",
    "np.roll(r, -1)-r"
   ]
  },
  {
   "cell_type": "code",
   "execution_count": 98,
   "metadata": {
    "jupyter": {
     "outputs_hidden": false
    }
   },
   "outputs": [
    {
     "data": {
      "text/plain": [
       "[0, 1, 2, 3, 4, 5, 6, 7, 8, 9]"
      ]
     },
     "execution_count": 98,
     "metadata": {},
     "output_type": "execute_result"
    }
   ],
   "source": [
    "mf"
   ]
  },
  {
   "cell_type": "code",
   "execution_count": null,
   "metadata": {
    "jupyter": {
     "outputs_hidden": false
    }
   },
   "outputs": [],
   "source": []
  }
 ],
 "metadata": {
  "kernelspec": {
   "display_name": "Python 2",
   "language": "python",
   "name": "python2"
  },
  "language_info": {
   "codemirror_mode": {
    "name": "ipython",
    "version": 3
   },
   "file_extension": ".py",
   "mimetype": "text/x-python",
   "name": "python",
   "nbconvert_exporter": "python",
   "pygments_lexer": "ipython3",
   "version": "3.6.12"
  }
 },
 "nbformat": 4,
 "nbformat_minor": 4
}
