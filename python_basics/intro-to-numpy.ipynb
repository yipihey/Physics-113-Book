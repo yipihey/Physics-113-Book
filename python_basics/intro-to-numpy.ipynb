{
 "cells": [
  {
   "attachments": {},
   "cell_type": "markdown",
   "metadata": {},
   "source": [
    "# Introduction to NumPy\n",
    "\n",
    "### Modules - Basics\n",
    "<section class=\"post-meta\">\n",
    "By Thorvald Ballestad, Niels Henrik Aase, Eilif Sommer Øyre and Jon Andreas Støvneng.\n",
    "</section>\n",
    "Last edited: March 21 2023 Tom Abel\n",
    "___"
   ]
  },
  {
   "cell_type": "markdown",
   "metadata": {},
   "source": [
    "## Introduction\n",
    "\n",
    "NumPy is a Python package that is omnipresent in computational physics.\n",
    "It greatly increase calculation speed and offers a more intuitive way of working with our data.\n",
    "\n",
    "This notebook covers the very basics of using NumPy in computational physics, with the assumption that the reader has basic Python knowledge.\n",
    "\n",
    "Firstly, we must include the `numpy` package, so that we are allowed to use it.\n",
    "If you are unfamiliar with the concept of importing packages in Python, you can think of it as including a file with functions that we want to use."
   ]
  },
  {
   "cell_type": "code",
   "execution_count": 1,
   "metadata": {},
   "outputs": [],
   "source": [
    "import numpy as np  # 'as np' tells python to name NumPy np\n",
    "\n",
    "# We will use this for demonstration. Plotting is not part of this notebook\n",
    "import matplotlib.pyplot as plt"
   ]
  },
  {
   "cell_type": "markdown",
   "metadata": {},
   "source": [
    "Above we also imported `matplotlib` for plotting. See [this](https://nbviewer.jupyter.org/urls/www.numfys.net/media/notebooks/basic_plotting.ipynb) notebook if you wish to learn more about plotting.\n",
    "\n",
    "NumPy introduces a new data container, known as an _array_. Arrays are the most important feature of NumPy, and all features of the NumPy package are based around this data container. It looks much like a list, but has some important features that lists do not have. We will explore this by examples:"
   ]
  },
  {
   "cell_type": "code",
   "execution_count": 2,
   "metadata": {},
   "outputs": [
    {
     "name": "stdout",
     "output_type": "stream",
     "text": [
      "[0, 1, 2, 3, 4]\n",
      "[0 1 2 3 4]\n"
     ]
    }
   ],
   "source": [
    "my_list = [0, 1, 2, 3, 4]  # Normal Python list\n",
    "my_array = np.array([0, 1, 2, 3, 4])  # NumPy array\n",
    "\n",
    "# Let us see what they look like:\n",
    "print(my_list)\n",
    "print(my_array)"
   ]
  },
  {
   "cell_type": "markdown",
   "metadata": {},
   "source": [
    "Note how they look almost the same, the only difference being that arrays do not have commas between it's elements (when printed).\n",
    "\n",
    "Let us look at the power of these arrays!"
   ]
  },
  {
   "cell_type": "code",
   "execution_count": 3,
   "metadata": {},
   "outputs": [
    {
     "name": "stdout",
     "output_type": "stream",
     "text": [
      "my_list*2:\t [0, 1, 2, 3, 4, 0, 1, 2, 3, 4]\n"
     ]
    }
   ],
   "source": [
    "# Remember how lists behave when we whish to do mathematical operations on them:\n",
    "print(\"my_list*2:\\t\", my_list*2)"
   ]
  },
  {
   "cell_type": "markdown",
   "metadata": {},
   "source": [
    "We get our list repeated, clearly not what we intended!"
   ]
  },
  {
   "cell_type": "code",
   "execution_count": 4,
   "metadata": {},
   "outputs": [
    {
     "name": "stdout",
     "output_type": "stream",
     "text": [
      "my_array*2:\t [0 2 4 6 8]\n"
     ]
    }
   ],
   "source": [
    "print(\"my_array*2:\\t\", my_array*2)"
   ]
  },
  {
   "cell_type": "markdown",
   "metadata": {},
   "source": [
    "Each element is multiplied by two, exactly the behavior we are used with from vector calculus.\n",
    "\n",
    "We can actually do this with most mathematical operators and functions."
   ]
  },
  {
   "cell_type": "code",
   "execution_count": 5,
   "metadata": {},
   "outputs": [
    {
     "name": "stdout",
     "output_type": "stream",
     "text": [
      "my_array**2:\t\t [ 0  1  4  9 16]\n",
      "my_array**2 - 3/2:\t [-1.5 -0.5  2.5  7.5 14.5]\n",
      "my_function(my_array):\t [ 1  4  9 16 25]\n"
     ]
    }
   ],
   "source": [
    "# remember that x**y is python syntax for x^y, that is x to the power of y\n",
    "print(\"my_array**2:\\t\\t\", my_array**2)\n",
    "print(\"my_array**2 - 3/2:\\t\", my_array**2 - 3/2)\n",
    "\n",
    "# We can even do this with functions!\n",
    "def my_function(x):\n",
    "    y = x + 1\n",
    "    return y**2\n",
    "\n",
    "print(\"my_function(my_array):\\t\", my_function(my_array))"
   ]
  },
  {
   "cell_type": "markdown",
   "metadata": {},
   "source": [
    "The latter example demonstrates the power of operating on arrays element-wise. If you use a normal Python list instead of a NumPy-array, one would have to iterate through all the elements of `x` using a `for` loop and then append the results to a new list to get the same result! This is shown below."
   ]
  },
  {
   "cell_type": "code",
   "execution_count": 6,
   "metadata": {},
   "outputs": [
    {
     "data": {
      "text/plain": [
       "array([ 0.        ,  0.84147098,  0.90929743,  0.14112001, -0.7568025 ])"
      ]
     },
     "execution_count": 6,
     "metadata": {},
     "output_type": "execute_result"
    }
   ],
   "source": [
    "np.sin(my_array)"
   ]
  },
  {
   "cell_type": "code",
   "execution_count": 7,
   "metadata": {},
   "outputs": [
    {
     "name": "stdout",
     "output_type": "stream",
     "text": [
      "my_function2(my_list):\t [1, 4, 9, 16, 25]\n"
     ]
    }
   ],
   "source": [
    "def my_function2(x):\n",
    "    y = [] # Creating an empty python list\n",
    "    for i in range(len(x)):\n",
    "        y_element = x[i] + 1\n",
    "        y.append(y_element**2)\n",
    "    return y\n",
    "\n",
    "print(\"my_function2(my_list):\\t\", my_function2(my_list))"
   ]
  },
  {
   "cell_type": "markdown",
   "metadata": {},
   "source": [
    "**The lesson is: use NumPy arrays, not Python lists.\n",
    "**\n",
    "NumPy includes many mathematical functions, like $\\sin, \\cos, \\cosh,\\exp, \\log$.\n",
    "They usually have intuitive names, such as `np.sin`, `np.exp`, and so forth.\n",
    "One can often try the mathematical name, and hope that NumPy has the function."
   ]
  },
  {
   "cell_type": "code",
   "execution_count": 8,
   "metadata": {},
   "outputs": [
    {
     "name": "stdout",
     "output_type": "stream",
     "text": [
      "sin(x) =\t [-0.84147098 -0.47942554  0.          0.47942554  0.84147098]\n",
      "arccos(x) =\t [3.14159265 2.0943951  1.57079633 1.04719755 0.        ]\n",
      "log(x+10) = \t [2.19722458 2.2512918  2.30258509 2.35137526 2.39789527]\n",
      "log10(x+10) =\t [0.95424251 0.97772361 1.         1.0211893  1.04139269]\n"
     ]
    }
   ],
   "source": [
    "# Some mathematical functions\n",
    "x = np.array([-1, -0.5, 0, 0.5, 1])\n",
    "print(\"sin(x) =\\t\", np.sin(x))\n",
    "print(\"arccos(x) =\\t\", np.arccos(x))\n",
    "print(\"log(x+10) = \\t\", np.log(x+10))\n",
    "print(\"log10(x+10) =\\t\", np.log10(x+10))"
   ]
  },
  {
   "cell_type": "markdown",
   "metadata": {},
   "source": [
    "You might already see how practical this is. For example if we wish to plot $y=f(x)$, we can just pass the entire $x$-array to our function, instead of using a `for` loop as we normally would with Python."
   ]
  },
  {
   "cell_type": "code",
   "execution_count": 9,
   "metadata": {},
   "outputs": [
    {
     "name": "stdout",
     "output_type": "stream",
     "text": [
      "x:\t [ 1  2  3  4  5  6  7  8  9 10]\n",
      "y:\t [ 0.84147098  0.90929743  0.14112001 -0.7568025  -0.95892427 -0.2794155\n",
      "  0.6569866   0.98935825  0.41211849 -0.54402111]\n"
     ]
    },
    {
     "data": {
      "image/png": "[encoded data removed]",
      "text/plain": [
       "<Figure size 432x288 with 1 Axes>"
      ]
     },
     "metadata": {
      "needs_background": "light"
     },
     "output_type": "display_data"
    }
   ],
   "source": [
    "x = np.array([1, 2, 3, 4, 5, 6, 7, 8, 9, 10])\n",
    "y = np.sin(x)  # find sin(x) for each of the elements in x\n",
    "\n",
    "print(\"x:\\t\", x)\n",
    "print(\"y:\\t\", y)\n",
    "\n",
    "plt.plot(x, y)  # Plotting is not part of this notebook, we use it here only for demonstration purposes\n",
    "plt.show()"
   ]
  },
  {
   "cell_type": "markdown",
   "metadata": {},
   "source": [
    "With boring old Python lists, we would have to loop through `x` and calculate $y(x)$ for each value, as was shown above.\n",
    "That is not only more code to write, it is also significantly slower when the number of points become large."
   ]
  },
  {
   "cell_type": "markdown",
   "metadata": {},
   "source": [
    "This is all well and good, but it is a bit tedious to write `np.array([1,2,3,4,5,6,7,8,9,10])`. And what if we wanted an even longer array, say a hundred numbers? Luckily NumPy has built in methods for getting various arrays.\n",
    "\n",
    "## Generating arrays\n",
    "The two most common functions for generating arrays are `np.linspace` and `np.arange`.\n",
    "Both functions give us points on an interval.\n",
    "`np.linspace` lets us decide how many points we want and `np.arange` lets us decide the spacing between the points.\n",
    "Let us use some examples to make this clearer."
   ]
  },
  {
   "cell_type": "code",
   "execution_count": 10,
   "metadata": {},
   "outputs": [
    {
     "name": "stdout",
     "output_type": "stream",
     "text": [
      "[0.         0.06896552 0.13793103 0.20689655 0.27586207 0.34482759\n",
      " 0.4137931  0.48275862 0.55172414 0.62068966 0.68965517 0.75862069\n",
      " 0.82758621 0.89655172 0.96551724 1.03448276 1.10344828 1.17241379\n",
      " 1.24137931 1.31034483 1.37931034 1.44827586 1.51724138 1.5862069\n",
      " 1.65517241 1.72413793 1.79310345 1.86206897 1.93103448 2.        ]\n"
     ]
    },
    {
     "data": {
      "text/plain": [
       "[<matplotlib.lines.Line2D at 0x115008850>]"
      ]
     },
     "execution_count": 10,
     "metadata": {},
     "output_type": "execute_result"
    },
    {
     "data": {
      "image/png": "[encoded data removed]",
      "text/plain": [
       "<Figure size 432x288 with 1 Axes>"
      ]
     },
     "metadata": {
      "needs_background": "light"
     },
     "output_type": "display_data"
    }
   ],
   "source": [
    "# Get an array of 50 values between 0 and 2\n",
    "x_lin = np.linspace(0, 2, 30)\n",
    "\n",
    "print(x_lin)\n",
    "plt.plot(x_lin,np.sin(x_lin),'x-')"
   ]
  },
  {
   "cell_type": "markdown",
   "metadata": {},
   "source": [
    "`np.linspace` is useful if we for example wish to plot a function $f(x)$.\n",
    "Then we need a list of $x$-values for which we can calculate the $y=f(x)$ values.\n",
    "Notice how the spacing between the points are the same, the points are *lin*early distributed in *space*.\n",
    "Sometimes we wish to have more control over the distance between points, rather than the number of points. For this we use `np.arange`."
   ]
  },
  {
   "cell_type": "code",
   "execution_count": 11,
   "metadata": {},
   "outputs": [
    {
     "name": "stdout",
     "output_type": "stream",
     "text": [
      "[0.  0.1 0.2 0.3 0.4 0.5 0.6 0.7 0.8 0.9 1.  1.1 1.2 1.3 1.4 1.5 1.6 1.7\n",
      " 1.8 1.9]\n"
     ]
    }
   ],
   "source": [
    "# Get an array of values between 0 and 2 with spacing 0.1\n",
    "x_range = np.arange(0, 2, 0.1)\n",
    "print(x_range)"
   ]
  },
  {
   "cell_type": "code",
   "execution_count": 12,
   "metadata": {},
   "outputs": [
    {
     "data": {
      "text/plain": [
       "array([0, 1, 2, 3, 4, 5, 6, 7, 8, 9])"
      ]
     },
     "execution_count": 12,
     "metadata": {},
     "output_type": "execute_result"
    }
   ],
   "source": [
    "np.arange(0,10)"
   ]
  },
  {
   "cell_type": "markdown",
   "metadata": {},
   "source": [
    "Notice that the endpoint, 2, is not included, much like the built-in Python function `range`.\n",
    "\n",
    "Choosing between `linspace` and `arange` depends on our need.\n",
    "Often we just need some points on an interval, and the exact spacing does not really matter.\n",
    "In this situation we obviously want to use `linspace`.\n",
    "However, sometimes the spacing is more important than the number of points, then `arange` is used."
   ]
  },
  {
   "cell_type": "markdown",
   "metadata": {},
   "source": [
    "One can also generate an array from an existing list, using `np.array()`, as was done in the introduction of this notebook."
   ]
  },
  {
   "cell_type": "markdown",
   "metadata": {},
   "source": [
    "There are many more functions that give us arrays of various shapes and sizes, we will not go through them all here. But two more functions should be mentioned, `np.zeros` and `np.ones`, which gives us a list of zeros and ones respectively."
   ]
  },
  {
   "cell_type": "code",
   "execution_count": 13,
   "metadata": {},
   "outputs": [
    {
     "name": "stdout",
     "output_type": "stream",
     "text": [
      "[0. 0. 0. 0. 0. 0. 0. 0. 0. 0. 0. 0. 0. 0. 0. 0. 0. 0. 0. 0.]\n",
      "[1. 1. 1. 1. 1. 1. 1. 1. 1. 1. 1. 1. 1. 1. 1. 1. 1. 1. 1. 1.]\n"
     ]
    }
   ],
   "source": [
    "# Generate two lists, one with zeros and one with ones, both with length 20\n",
    "zeros = np.zeros(20)\n",
    "ones = np.ones(20)\n",
    "\n",
    "# Let us see how they look\n",
    "print(zeros)\n",
    "print(ones)"
   ]
  },
  {
   "cell_type": "markdown",
   "metadata": {},
   "source": [
    "`np.zeros` and `np.ones` are often useful for initializing arrays that are to be used later."
   ]
  },
  {
   "cell_type": "markdown",
   "metadata": {},
   "source": [
    "## Slicing and indexing\n",
    "With arrays, it is useful to refer to only the elements we want, just like we do with indexing in normal lists.\n",
    "\n",
    "Lets review normal lists first.\n",
    "Remember that lists are 0-indexed, that is the first element is element 0, the second is 1 and so on."
   ]
  },
  {
   "cell_type": "code",
   "execution_count": 14,
   "metadata": {},
   "outputs": [
    {
     "name": "stdout",
     "output_type": "stream",
     "text": [
      "my_list[0]:\t 1\n",
      "my_list[:2]:\t [1, 2]\n",
      "my_list[-2:]:\t [3, 4]\n"
     ]
    }
   ],
   "source": [
    "my_list = [1, 2, 3, 4]  # Normal Python list\n",
    "\n",
    "# We can access different parts of the list by slicing and indexing:\n",
    "print(\"my_list[0]:\\t\", my_list[0])     # First element\n",
    "print(\"my_list[:2]:\\t\", my_list[:2])   # The two first elements\n",
    "print(\"my_list[-2:]:\\t\", my_list[-2:]) # The last two elements"
   ]
  },
  {
   "cell_type": "code",
   "execution_count": 15,
   "metadata": {},
   "outputs": [
    {
     "data": {
      "text/plain": [
       "array([1, 1, 1])"
      ]
     },
     "execution_count": 15,
     "metadata": {},
     "output_type": "execute_result"
    }
   ],
   "source": [
    "np.array(my_list[1:])-np.array(my_list[:-1])"
   ]
  },
  {
   "cell_type": "markdown",
   "metadata": {},
   "source": [
    "In general the syntax for slicing a lists is `my_list[start:end:step]`, where `start` is the first element we want, `end` is the last element (non-inclusive), and `step` is the step size.\n",
    "Note that if `start` or `end` is empty, we get from the start or to the end respectively.\n",
    "Negative values count from the end, so that -1 is the last element.\n",
    "\n",
    "If you are completely unfamiliar with this, you are advised to play around with it now, before moving on to `array` slicing."
   ]
  },
  {
   "cell_type": "markdown",
   "metadata": {},
   "source": [
    "We can do the same with arrays, but arrays have even more ways of slicing!\n",
    "\n",
    "The syntax for slicing in NumPy is exactly the same as for lists, but we can do it for each dimension!\n",
    "For a two-dimensional array the syntax then becomes `my_array[start_1:end_1,  start_2:end_2]`, where `start_1` and `end_1` is the start and end values for the first axis, and similarly with `start_2` and `end_2` for the second axis."
   ]
  },
  {
   "cell_type": "markdown",
   "metadata": {},
   "source": [
    "## Loading and Saving Data\n",
    "\n",
    "The numpy built in commands `np.loadtxt` and `np.savetxt`, `np.load`, `np.savez` can be used \n",
    "for easily saving and reading values from files."
   ]
  },
  {
   "cell_type": "code",
   "execution_count": 35,
   "metadata": {},
   "outputs": [
    {
     "data": {
      "image/png": "[encoded data removed]",
      "text/plain": [
       "<Figure size 432x288 with 1 Axes>"
      ]
     },
     "metadata": {
      "needs_background": "light"
     },
     "output_type": "display_data"
    }
   ],
   "source": [
    "x = np.random.uniform(0,1,size=1000)\n",
    "y = np.random.uniform(0,1,size=1000)\n",
    "\n",
    "np.savez_compressed(\"/tmp/test.npz\", x=x, y=y) # save to disk\n",
    "#np.savez(\"/tmp/test.npz\", x=x, y=y)\n",
    "\n",
    "x = y = 0\n",
    "\n",
    "file = np.load(\"/tmp/test.npz\") # reload our data from disk\n",
    "\n",
    "plt.plot(file['x'],file['y'],'.'); # note that we saved the names too.\n",
    "plt.gca().set_aspect(1)"
   ]
  },
  {
   "attachments": {},
   "cell_type": "markdown",
   "metadata": {},
   "source": [
    "### Plotting from saved data\n",
    "\n",
    "Now that we just learned how to write our (named) data to disk we can use plotting packages to interact with it and make publication ready plots. \n",
    "Allow me to recommend for you to check out [Veusz](https://veusz.github.io). \n",
    "\n",
    "![veusz](./veusz-screenshot-3d.png)\n",
    "\n",
    "I find a joy to work with. Especially with `.npz` or [hdf5](https://www.h5py.org) `.h5` files.\n",
    "\n"
   ]
  },
  {
   "attachments": {},
   "cell_type": "markdown",
   "metadata": {},
   "source": [
    "## Final note\n",
    "There is much more to be said about NumPy, this was merely the very basics.\n",
    "\n",
    "NumPy is very well documented and there is much useful information available on the internet.\n",
    "See the [official documentation](https://docs.scipy.org/doc/numpy).\n",
    "\n",
    "Some noteworthy functionality that was omitted in this notebook:\n",
    " - The `numpy.linalg` library: useful linear algebra functions, such as solving matrix equations and decomposition.\n",
    " - Multidimensional arrays, that are analogous to matrices."
   ]
  }
 ],
 "metadata": {
  "kernelspec": {
   "display_name": "Python 3",
   "language": "python",
   "name": "python3"
  },
  "language_info": {
   "codemirror_mode": {
    "name": "ipython",
    "version": 3
   },
   "file_extension": ".py",
   "mimetype": "text/x-python",
   "name": "python",
   "nbconvert_exporter": "python",
   "pygments_lexer": "ipython3",
   "version": "3.9.13"
  }
 },
 "nbformat": 4,
 "nbformat_minor": 4
}
